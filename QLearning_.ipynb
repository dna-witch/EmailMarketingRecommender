{
 "cells": [
  {
   "cell_type": "markdown",
   "id": "ee964f02-2d9a-4154-8503-039d58f59e67",
   "metadata": {},
   "source": [
    "# Q-Learning: Test and Development"
   ]
  },
  {
   "cell_type": "code",
   "execution_count": 1,
   "id": "05d64361-6107-4ee2-9b9e-8896a76cb289",
   "metadata": {},
   "outputs": [],
   "source": [
    "import random\n",
    "import pandas as pd\n",
    "import numpy as np"
   ]
  },
  {
   "cell_type": "code",
   "execution_count": 2,
   "id": "a0601241-3b4b-4b4c-a815-763b37dda64c",
   "metadata": {},
   "outputs": [],
   "source": [
    "# import custom modules\n",
    "from campaign_env import CampaignEnv\n",
    "from q_learning import QLearning\n",
    "from metrics import Metrics"
   ]
  },
  {
   "cell_type": "code",
   "execution_count": 3,
   "id": "b4d49218-8037-4be7-8230-118246c6affb",
   "metadata": {},
   "outputs": [
    {
     "name": "stdout",
     "output_type": "stream",
     "text": [
      "State index map saved to 'data/state_index_map.txt'.\n"
     ]
    }
   ],
   "source": [
    "agent = QLearning()"
   ]
  },
  {
   "cell_type": "code",
   "execution_count": 4,
   "id": "14b78b58-524e-4313-b3d8-82855fcd113d",
   "metadata": {},
   "outputs": [
    {
     "data": {
      "text/html": [
       "<div>\n",
       "<style scoped>\n",
       "    .dataframe tbody tr th:only-of-type {\n",
       "        vertical-align: middle;\n",
       "    }\n",
       "\n",
       "    .dataframe tbody tr th {\n",
       "        vertical-align: top;\n",
       "    }\n",
       "\n",
       "    .dataframe thead th {\n",
       "        text-align: right;\n",
       "    }\n",
       "</style>\n",
       "<table border=\"1\" class=\"dataframe\">\n",
       "  <thead>\n",
       "    <tr style=\"text-align: right;\">\n",
       "      <th></th>\n",
       "      <th>Customer_ID</th>\n",
       "      <th>SubjectLine_ID</th>\n",
       "      <th>Emails_Sent</th>\n",
       "      <th>Responses</th>\n",
       "      <th>Conversion_Rate</th>\n",
       "      <th>Age_binned</th>\n",
       "      <th>Tenure_binned</th>\n",
       "      <th>Gender</th>\n",
       "      <th>Type</th>\n",
       "      <th>Action</th>\n",
       "    </tr>\n",
       "  </thead>\n",
       "  <tbody>\n",
       "    <tr>\n",
       "      <th>0</th>\n",
       "      <td>1</td>\n",
       "      <td>2</td>\n",
       "      <td>8</td>\n",
       "      <td>4</td>\n",
       "      <td>50.0</td>\n",
       "      <td>2</td>\n",
       "      <td>1</td>\n",
       "      <td>0</td>\n",
       "      <td>1</td>\n",
       "      <td>2</td>\n",
       "    </tr>\n",
       "    <tr>\n",
       "      <th>1</th>\n",
       "      <td>1</td>\n",
       "      <td>3</td>\n",
       "      <td>8</td>\n",
       "      <td>4</td>\n",
       "      <td>50.0</td>\n",
       "      <td>2</td>\n",
       "      <td>1</td>\n",
       "      <td>0</td>\n",
       "      <td>1</td>\n",
       "      <td>3</td>\n",
       "    </tr>\n",
       "    <tr>\n",
       "      <th>2</th>\n",
       "      <td>1</td>\n",
       "      <td>1</td>\n",
       "      <td>8</td>\n",
       "      <td>4</td>\n",
       "      <td>50.0</td>\n",
       "      <td>2</td>\n",
       "      <td>1</td>\n",
       "      <td>0</td>\n",
       "      <td>1</td>\n",
       "      <td>1</td>\n",
       "    </tr>\n",
       "    <tr>\n",
       "      <th>3</th>\n",
       "      <td>2</td>\n",
       "      <td>3</td>\n",
       "      <td>3</td>\n",
       "      <td>0</td>\n",
       "      <td>0.0</td>\n",
       "      <td>2</td>\n",
       "      <td>3</td>\n",
       "      <td>1</td>\n",
       "      <td>0</td>\n",
       "      <td>3</td>\n",
       "    </tr>\n",
       "    <tr>\n",
       "      <th>4</th>\n",
       "      <td>3</td>\n",
       "      <td>1</td>\n",
       "      <td>4</td>\n",
       "      <td>2</td>\n",
       "      <td>50.0</td>\n",
       "      <td>2</td>\n",
       "      <td>2</td>\n",
       "      <td>1</td>\n",
       "      <td>1</td>\n",
       "      <td>1</td>\n",
       "    </tr>\n",
       "  </tbody>\n",
       "</table>\n",
       "</div>"
      ],
      "text/plain": [
       "   Customer_ID  SubjectLine_ID  Emails_Sent  Responses  Conversion_Rate  \\\n",
       "0            1               2            8          4             50.0   \n",
       "1            1               3            8          4             50.0   \n",
       "2            1               1            8          4             50.0   \n",
       "3            2               3            3          0              0.0   \n",
       "4            3               1            4          2             50.0   \n",
       "\n",
       "   Age_binned  Tenure_binned  Gender  Type  Action  \n",
       "0           2              1       0     1       2  \n",
       "1           2              1       0     1       3  \n",
       "2           2              1       0     1       1  \n",
       "3           2              3       1     0       3  \n",
       "4           2              2       1     1       1  "
      ]
     },
     "execution_count": 4,
     "metadata": {},
     "output_type": "execute_result"
    }
   ],
   "source": [
    "agent.data.head()"
   ]
  },
  {
   "cell_type": "code",
   "execution_count": null,
   "id": "c5bc5831-1ace-449a-9ff4-bdf5c5621696",
   "metadata": {},
   "outputs": [],
   "source": [
    "agent.train_agent()"
   ]
  },
  {
   "cell_type": "code",
   "execution_count": null,
   "id": "310c296f-1729-42fc-b0b3-64a48b36842b",
   "metadata": {},
   "outputs": [],
   "source": []
  },
  {
   "cell_type": "code",
   "execution_count": null,
   "id": "7e374785-891f-4991-91cb-9ca451d6ddd0",
   "metadata": {},
   "outputs": [],
   "source": []
  }
 ],
 "metadata": {
  "kernelspec": {
   "display_name": "Python 3 (ipykernel)",
   "language": "python",
   "name": "python3"
  },
  "language_info": {
   "codemirror_mode": {
    "name": "ipython",
    "version": 3
   },
   "file_extension": ".py",
   "mimetype": "text/x-python",
   "name": "python",
   "nbconvert_exporter": "python",
   "pygments_lexer": "ipython3",
   "version": "3.10.14"
  }
 },
 "nbformat": 4,
 "nbformat_minor": 5
}
